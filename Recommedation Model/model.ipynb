{
 "cells": [
  {
   "cell_type": "code",
   "execution_count": 1,
   "id": "acbd4dfc",
   "metadata": {},
   "outputs": [],
   "source": [
    "import pandas as pd\n",
    "import numpy as np\n",
    "from sklearn.metrics.pairwise import cosine_similarity\n",
    "from sklearn.feature_extraction.text import CountVectorizer"
   ]
  },
  {
   "cell_type": "code",
   "execution_count": 2,
   "id": "d0ef9e22",
   "metadata": {},
   "outputs": [],
   "source": [
    "movies =pd.read_csv(r'movies.csv', sep=';')\n",
    "movies_df = pd.DataFrame(movies,columns=['movieId','title','genres'])\n",
    "\n",
    "\n",
    "ratings =pd.read_csv(r'ratings.csv', sep=';')\n",
    "ratings_df = pd.DataFrame(ratings)\n",
    "\n",
    "users =pd.read_csv(r'users.csv', sep=';')\n",
    "users_df = pd.DataFrame(users)"
   ]
  },
  {
   "cell_type": "code",
   "execution_count": 3,
   "id": "ec9582fe",
   "metadata": {},
   "outputs": [
    {
     "data": {
      "text/html": [
       "<div>\n",
       "<style scoped>\n",
       "    .dataframe tbody tr th:only-of-type {\n",
       "        vertical-align: middle;\n",
       "    }\n",
       "\n",
       "    .dataframe tbody tr th {\n",
       "        vertical-align: top;\n",
       "    }\n",
       "\n",
       "    .dataframe thead th {\n",
       "        text-align: right;\n",
       "    }\n",
       "</style>\n",
       "<table border=\"1\" class=\"dataframe\">\n",
       "  <thead>\n",
       "    <tr style=\"text-align: right;\">\n",
       "      <th></th>\n",
       "      <th>movieId</th>\n",
       "      <th>title</th>\n",
       "      <th>genres</th>\n",
       "    </tr>\n",
       "  </thead>\n",
       "  <tbody>\n",
       "    <tr>\n",
       "      <th>0</th>\n",
       "      <td>1</td>\n",
       "      <td>Toy Story (1995)</td>\n",
       "      <td>Animation|Children's|Comedy</td>\n",
       "    </tr>\n",
       "    <tr>\n",
       "      <th>1</th>\n",
       "      <td>2</td>\n",
       "      <td>Jumanji (1995)</td>\n",
       "      <td>Adventure|Children's|Fantasy</td>\n",
       "    </tr>\n",
       "    <tr>\n",
       "      <th>2</th>\n",
       "      <td>3</td>\n",
       "      <td>Grumpier Old Men (1995)</td>\n",
       "      <td>Comedy|Romance</td>\n",
       "    </tr>\n",
       "    <tr>\n",
       "      <th>3</th>\n",
       "      <td>4</td>\n",
       "      <td>Waiting to Exhale (1995)</td>\n",
       "      <td>Comedy|Drama</td>\n",
       "    </tr>\n",
       "    <tr>\n",
       "      <th>4</th>\n",
       "      <td>5</td>\n",
       "      <td>Father of the Bride Part II (1995)</td>\n",
       "      <td>Comedy</td>\n",
       "    </tr>\n",
       "  </tbody>\n",
       "</table>\n",
       "</div>"
      ],
      "text/plain": [
       "   movieId                               title                        genres\n",
       "0        1                    Toy Story (1995)   Animation|Children's|Comedy\n",
       "1        2                      Jumanji (1995)  Adventure|Children's|Fantasy\n",
       "2        3             Grumpier Old Men (1995)                Comedy|Romance\n",
       "3        4            Waiting to Exhale (1995)                  Comedy|Drama\n",
       "4        5  Father of the Bride Part II (1995)                        Comedy"
      ]
     },
     "execution_count": 3,
     "metadata": {},
     "output_type": "execute_result"
    }
   ],
   "source": [
    "movies_df.head()"
   ]
  },
  {
   "cell_type": "code",
   "execution_count": 4,
   "id": "cbf05560",
   "metadata": {},
   "outputs": [
    {
     "data": {
      "text/html": [
       "<div>\n",
       "<style scoped>\n",
       "    .dataframe tbody tr th:only-of-type {\n",
       "        vertical-align: middle;\n",
       "    }\n",
       "\n",
       "    .dataframe tbody tr th {\n",
       "        vertical-align: top;\n",
       "    }\n",
       "\n",
       "    .dataframe thead th {\n",
       "        text-align: right;\n",
       "    }\n",
       "</style>\n",
       "<table border=\"1\" class=\"dataframe\">\n",
       "  <thead>\n",
       "    <tr style=\"text-align: right;\">\n",
       "      <th></th>\n",
       "      <th>userId</th>\n",
       "      <th>movieId</th>\n",
       "      <th>rating</th>\n",
       "      <th>timestamp</th>\n",
       "    </tr>\n",
       "  </thead>\n",
       "  <tbody>\n",
       "    <tr>\n",
       "      <th>0</th>\n",
       "      <td>1</td>\n",
       "      <td>1193</td>\n",
       "      <td>5</td>\n",
       "      <td>978300760</td>\n",
       "    </tr>\n",
       "    <tr>\n",
       "      <th>1</th>\n",
       "      <td>1</td>\n",
       "      <td>661</td>\n",
       "      <td>3</td>\n",
       "      <td>978302109</td>\n",
       "    </tr>\n",
       "    <tr>\n",
       "      <th>2</th>\n",
       "      <td>1</td>\n",
       "      <td>914</td>\n",
       "      <td>3</td>\n",
       "      <td>978301968</td>\n",
       "    </tr>\n",
       "    <tr>\n",
       "      <th>3</th>\n",
       "      <td>1</td>\n",
       "      <td>3408</td>\n",
       "      <td>4</td>\n",
       "      <td>978300275</td>\n",
       "    </tr>\n",
       "    <tr>\n",
       "      <th>4</th>\n",
       "      <td>1</td>\n",
       "      <td>2355</td>\n",
       "      <td>5</td>\n",
       "      <td>978824291</td>\n",
       "    </tr>\n",
       "  </tbody>\n",
       "</table>\n",
       "</div>"
      ],
      "text/plain": [
       "   userId  movieId  rating  timestamp\n",
       "0       1     1193       5  978300760\n",
       "1       1      661       3  978302109\n",
       "2       1      914       3  978301968\n",
       "3       1     3408       4  978300275\n",
       "4       1     2355       5  978824291"
      ]
     },
     "execution_count": 4,
     "metadata": {},
     "output_type": "execute_result"
    }
   ],
   "source": [
    "ratings_df.head()"
   ]
  },
  {
   "cell_type": "code",
   "execution_count": 5,
   "id": "ea09f93c",
   "metadata": {},
   "outputs": [
    {
     "data": {
      "text/html": [
       "<div>\n",
       "<style scoped>\n",
       "    .dataframe tbody tr th:only-of-type {\n",
       "        vertical-align: middle;\n",
       "    }\n",
       "\n",
       "    .dataframe tbody tr th {\n",
       "        vertical-align: top;\n",
       "    }\n",
       "\n",
       "    .dataframe thead th {\n",
       "        text-align: right;\n",
       "    }\n",
       "</style>\n",
       "<table border=\"1\" class=\"dataframe\">\n",
       "  <thead>\n",
       "    <tr style=\"text-align: right;\">\n",
       "      <th></th>\n",
       "      <th>userId</th>\n",
       "      <th>gender</th>\n",
       "      <th>age</th>\n",
       "      <th>occupation</th>\n",
       "      <th>zip-code</th>\n",
       "    </tr>\n",
       "  </thead>\n",
       "  <tbody>\n",
       "    <tr>\n",
       "      <th>0</th>\n",
       "      <td>1</td>\n",
       "      <td>F</td>\n",
       "      <td>1</td>\n",
       "      <td>10</td>\n",
       "      <td>48067</td>\n",
       "    </tr>\n",
       "    <tr>\n",
       "      <th>1</th>\n",
       "      <td>2</td>\n",
       "      <td>M</td>\n",
       "      <td>56</td>\n",
       "      <td>16</td>\n",
       "      <td>70072</td>\n",
       "    </tr>\n",
       "    <tr>\n",
       "      <th>2</th>\n",
       "      <td>3</td>\n",
       "      <td>M</td>\n",
       "      <td>25</td>\n",
       "      <td>15</td>\n",
       "      <td>55117</td>\n",
       "    </tr>\n",
       "    <tr>\n",
       "      <th>3</th>\n",
       "      <td>4</td>\n",
       "      <td>M</td>\n",
       "      <td>45</td>\n",
       "      <td>7</td>\n",
       "      <td>2460</td>\n",
       "    </tr>\n",
       "    <tr>\n",
       "      <th>4</th>\n",
       "      <td>5</td>\n",
       "      <td>M</td>\n",
       "      <td>25</td>\n",
       "      <td>20</td>\n",
       "      <td>55455</td>\n",
       "    </tr>\n",
       "  </tbody>\n",
       "</table>\n",
       "</div>"
      ],
      "text/plain": [
       "   userId gender  age  occupation zip-code\n",
       "0       1      F    1          10    48067\n",
       "1       2      M   56          16    70072\n",
       "2       3      M   25          15    55117\n",
       "3       4      M   45           7     2460\n",
       "4       5      M   25          20    55455"
      ]
     },
     "execution_count": 5,
     "metadata": {},
     "output_type": "execute_result"
    }
   ],
   "source": [
    "users_df.head()"
   ]
  },
  {
   "cell_type": "code",
   "execution_count": 6,
   "id": "7d6b9260",
   "metadata": {},
   "outputs": [],
   "source": [
    "#movie_D_F preprossing\n",
    "x=[]\n",
    "for index, row in movies_df.iterrows():\n",
    "    y= row['title'].split(' (')\n",
    "    y= y[0].split(',')\n",
    "    x.append(y[0].lower())\n",
    "\n",
    "\n",
    "movies_df['title']=x\n",
    "movies_df['genres'] = movies_df['genres'].map(lambda x: x.split('|'))\n"
   ]
  },
  {
   "cell_type": "code",
   "execution_count": 7,
   "id": "dd588560",
   "metadata": {},
   "outputs": [
    {
     "data": {
      "text/html": [
       "<div>\n",
       "<style scoped>\n",
       "    .dataframe tbody tr th:only-of-type {\n",
       "        vertical-align: middle;\n",
       "    }\n",
       "\n",
       "    .dataframe tbody tr th {\n",
       "        vertical-align: top;\n",
       "    }\n",
       "\n",
       "    .dataframe thead th {\n",
       "        text-align: right;\n",
       "    }\n",
       "</style>\n",
       "<table border=\"1\" class=\"dataframe\">\n",
       "  <thead>\n",
       "    <tr style=\"text-align: right;\">\n",
       "      <th></th>\n",
       "      <th>movieId</th>\n",
       "      <th>title</th>\n",
       "      <th>genres</th>\n",
       "    </tr>\n",
       "  </thead>\n",
       "  <tbody>\n",
       "    <tr>\n",
       "      <th>0</th>\n",
       "      <td>1</td>\n",
       "      <td>toy story</td>\n",
       "      <td>[Animation, Children's, Comedy]</td>\n",
       "    </tr>\n",
       "    <tr>\n",
       "      <th>1</th>\n",
       "      <td>2</td>\n",
       "      <td>jumanji</td>\n",
       "      <td>[Adventure, Children's, Fantasy]</td>\n",
       "    </tr>\n",
       "    <tr>\n",
       "      <th>2</th>\n",
       "      <td>3</td>\n",
       "      <td>grumpier old men</td>\n",
       "      <td>[Comedy, Romance]</td>\n",
       "    </tr>\n",
       "    <tr>\n",
       "      <th>3</th>\n",
       "      <td>4</td>\n",
       "      <td>waiting to exhale</td>\n",
       "      <td>[Comedy, Drama]</td>\n",
       "    </tr>\n",
       "    <tr>\n",
       "      <th>4</th>\n",
       "      <td>5</td>\n",
       "      <td>father of the bride part ii</td>\n",
       "      <td>[Comedy]</td>\n",
       "    </tr>\n",
       "  </tbody>\n",
       "</table>\n",
       "</div>"
      ],
      "text/plain": [
       "   movieId                        title                            genres\n",
       "0        1                    toy story   [Animation, Children's, Comedy]\n",
       "1        2                      jumanji  [Adventure, Children's, Fantasy]\n",
       "2        3             grumpier old men                 [Comedy, Romance]\n",
       "3        4            waiting to exhale                   [Comedy, Drama]\n",
       "4        5  father of the bride part ii                          [Comedy]"
      ]
     },
     "execution_count": 7,
     "metadata": {},
     "output_type": "execute_result"
    }
   ],
   "source": [
    "movies_df.head()"
   ]
  },
  {
   "cell_type": "code",
   "execution_count": 8,
   "id": "21173b3e",
   "metadata": {},
   "outputs": [
    {
     "data": {
      "text/html": [
       "<div>\n",
       "<style scoped>\n",
       "    .dataframe tbody tr th:only-of-type {\n",
       "        vertical-align: middle;\n",
       "    }\n",
       "\n",
       "    .dataframe tbody tr th {\n",
       "        vertical-align: top;\n",
       "    }\n",
       "\n",
       "    .dataframe thead th {\n",
       "        text-align: right;\n",
       "    }\n",
       "</style>\n",
       "<table border=\"1\" class=\"dataframe\">\n",
       "  <thead>\n",
       "    <tr style=\"text-align: right;\">\n",
       "      <th></th>\n",
       "      <th>title</th>\n",
       "      <th>Bag_of_words</th>\n",
       "    </tr>\n",
       "  </thead>\n",
       "  <tbody>\n",
       "    <tr>\n",
       "      <th>0</th>\n",
       "      <td>toy story</td>\n",
       "      <td>Animation Children's Comedy</td>\n",
       "    </tr>\n",
       "    <tr>\n",
       "      <th>1</th>\n",
       "      <td>jumanji</td>\n",
       "      <td>Adventure Children's Fantasy</td>\n",
       "    </tr>\n",
       "    <tr>\n",
       "      <th>2</th>\n",
       "      <td>grumpier old men</td>\n",
       "      <td>Comedy Romance</td>\n",
       "    </tr>\n",
       "    <tr>\n",
       "      <th>3</th>\n",
       "      <td>waiting to exhale</td>\n",
       "      <td>Comedy Drama</td>\n",
       "    </tr>\n",
       "    <tr>\n",
       "      <th>4</th>\n",
       "      <td>father of the bride part ii</td>\n",
       "      <td>Comedy</td>\n",
       "    </tr>\n",
       "  </tbody>\n",
       "</table>\n",
       "</div>"
      ],
      "text/plain": [
       "                         title                   Bag_of_words\n",
       "0                    toy story   Animation Children's Comedy \n",
       "1                      jumanji  Adventure Children's Fantasy \n",
       "2             grumpier old men                Comedy Romance \n",
       "3            waiting to exhale                  Comedy Drama \n",
       "4  father of the bride part ii                        Comedy "
      ]
     },
     "execution_count": 8,
     "metadata": {},
     "output_type": "execute_result"
    }
   ],
   "source": [
    "movies_df['Bag_of_words'] = ''\n",
    "column='genres'\n",
    "geners=[]\n",
    "for index, row in movies_df.iterrows():\n",
    "    words = ''\n",
    "    words += ' '.join(row[column]) + ' '\n",
    "    geners.append(words)\n",
    "\n",
    "movies_df['Bag_of_words']=geners\n",
    "df = movies_df[['title','Bag_of_words']]\n",
    "df.head()"
   ]
  },
  {
   "cell_type": "code",
   "execution_count": 9,
   "id": "4e37caaf",
   "metadata": {},
   "outputs": [
    {
     "name": "stdout",
     "output_type": "stream",
     "text": [
      "[[1.         0.33333333 0.40824829 ... 0.         0.         0.        ]\n",
      " [0.33333333 1.         0.         ... 0.         0.         0.        ]\n",
      " [0.40824829 0.         1.         ... 0.         0.         0.        ]\n",
      " ...\n",
      " [0.         0.         0.         ... 1.         1.         0.70710678]\n",
      " [0.         0.         0.         ... 1.         1.         0.70710678]\n",
      " [0.         0.         0.         ... 0.70710678 0.70710678 1.        ]]\n"
     ]
    },
    {
     "data": {
      "text/plain": [
       "0                         toy story\n",
       "1                           jumanji\n",
       "2                  grumpier old men\n",
       "3                 waiting to exhale\n",
       "4       father of the bride part ii\n",
       "                   ...             \n",
       "3878               meet the parents\n",
       "3879            requiem for a dream\n",
       "3880                      tigerland\n",
       "3881               two family house\n",
       "3882                      contender\n",
       "Name: title, Length: 3883, dtype: object"
      ]
     },
     "execution_count": 9,
     "metadata": {},
     "output_type": "execute_result"
    }
   ],
   "source": [
    "count1 = CountVectorizer()\n",
    "count_matrix1 = count1.fit_transform(df['Bag_of_words'])\n",
    "\n",
    "similarity1 = cosine_similarity(count_matrix1, count_matrix1)\n",
    "print(similarity1)\n",
    "indices = pd.Series(df['title'])\n",
    "indices"
   ]
  },
  {
   "cell_type": "code",
   "execution_count": 10,
   "id": "f6d9890a",
   "metadata": {},
   "outputs": [],
   "source": [
    "def recommend_by_movies(title, N):\n",
    "    \n",
    "    recommended_movies = []\n",
    "    idx = indices[indices == title].index[0]\n",
    "    score_series = pd.Series(similarity1[idx]).sort_values(ascending = False)\n",
    "    top_N_indices = score_series.iloc[0:].index\n",
    "        \n",
    "    for i in top_N_indices:\n",
    "        title=get_max_rate_movie(df2['userId'][i])\n",
    "        \n",
    "        if len(recommended_movies)==N:\n",
    "            break\n",
    "        if i==idx or title in recommended_movies:\n",
    "            continue\n",
    "            \n",
    "        recommended_movies.append(df['title'][i])\n",
    "    return recommended_movies\n"
   ]
  },
  {
   "cell_type": "code",
   "execution_count": 11,
   "id": "9542220e",
   "metadata": {},
   "outputs": [
    {
     "data": {
      "text/html": [
       "<div>\n",
       "<style scoped>\n",
       "    .dataframe tbody tr th:only-of-type {\n",
       "        vertical-align: middle;\n",
       "    }\n",
       "\n",
       "    .dataframe tbody tr th {\n",
       "        vertical-align: top;\n",
       "    }\n",
       "\n",
       "    .dataframe thead th {\n",
       "        text-align: right;\n",
       "    }\n",
       "</style>\n",
       "<table border=\"1\" class=\"dataframe\">\n",
       "  <thead>\n",
       "    <tr style=\"text-align: right;\">\n",
       "      <th></th>\n",
       "      <th>userId</th>\n",
       "      <th>Bag_of_words</th>\n",
       "    </tr>\n",
       "  </thead>\n",
       "  <tbody>\n",
       "    <tr>\n",
       "      <th>0</th>\n",
       "      <td>1</td>\n",
       "      <td>1 1 10</td>\n",
       "    </tr>\n",
       "    <tr>\n",
       "      <th>1</th>\n",
       "      <td>2</td>\n",
       "      <td>-1 56 16</td>\n",
       "    </tr>\n",
       "    <tr>\n",
       "      <th>2</th>\n",
       "      <td>3</td>\n",
       "      <td>-1 25 15</td>\n",
       "    </tr>\n",
       "    <tr>\n",
       "      <th>3</th>\n",
       "      <td>4</td>\n",
       "      <td>-1 45 7</td>\n",
       "    </tr>\n",
       "    <tr>\n",
       "      <th>4</th>\n",
       "      <td>5</td>\n",
       "      <td>-1 25 20</td>\n",
       "    </tr>\n",
       "  </tbody>\n",
       "</table>\n",
       "</div>"
      ],
      "text/plain": [
       "   userId Bag_of_words\n",
       "0       1      1 1 10 \n",
       "1       2    -1 56 16 \n",
       "2       3    -1 25 15 \n",
       "3       4     -1 45 7 \n",
       "4       5    -1 25 20 "
      ]
     },
     "execution_count": 11,
     "metadata": {},
     "output_type": "execute_result"
    }
   ],
   "source": [
    "users_df['Bag_of_words'] = ''\n",
    "columns = ['gender', 'age', 'occupation']\n",
    "persons=[]\n",
    "for index, row in users_df.iterrows():\n",
    "    words = ''\n",
    "    if row['gender']=='F':\n",
    "        row['gender']=1\n",
    "    else:\n",
    "        row['gender']=-1\n",
    "\n",
    "    for col in columns:\n",
    "        words += (str(row[col])) + ' '\n",
    "    persons.append(words)\n",
    "    \n",
    "users_df['Bag_of_words']=persons\n",
    "df2 = users_df[['userId','Bag_of_words']]\n",
    "df2.head()"
   ]
  },
  {
   "cell_type": "code",
   "execution_count": 12,
   "id": "8e2fad54",
   "metadata": {},
   "outputs": [
    {
     "name": "stdout",
     "output_type": "stream",
     "text": [
      "[[1.         0.         0.         ... 0.         0.         0.        ]\n",
      " [0.         1.         0.         ... 0.70710678 0.         0.        ]\n",
      " [0.         0.         1.         ... 0.         0.         0.70710678]\n",
      " ...\n",
      " [0.         0.70710678 0.         ... 1.         0.         0.        ]\n",
      " [0.         0.         0.         ... 0.         1.         0.        ]\n",
      " [0.         0.         0.70710678 ... 0.         0.         1.        ]]\n"
     ]
    }
   ],
   "source": [
    "count = CountVectorizer()\n",
    "count_matrix = count.fit_transform(df2['Bag_of_words'])\n",
    "similarity = cosine_similarity(count_matrix, count_matrix)\n",
    "print(similarity)\n",
    "indices_user_id = pd.Series(df2['userId'])\n"
   ]
  },
  {
   "cell_type": "code",
   "execution_count": 13,
   "id": "18a89d4e",
   "metadata": {},
   "outputs": [],
   "source": [
    "def get_max_rate_movie(user_id):\n",
    "    recommended_movie=''\n",
    "    movie_id = ratings_df.loc[(ratings_df['userId']==user_id) & (ratings_df.rating==ratings_df.rating.max()), 'movieId'].iloc[0]\n",
    "    recommended_movie = movies_df.loc[movies_df['movieId'] == movie_id, 'title'].iloc[0]\n",
    "    return recommended_movie\n"
   ]
  },
  {
   "cell_type": "code",
   "execution_count": 14,
   "id": "49012fc5",
   "metadata": {},
   "outputs": [],
   "source": [
    "def get_max_rate_users(movie_id):\n",
    "    users = ratings_df.loc[(ratings_df['movieId']==movie_id) & (ratings_df.rating==ratings_df.rating.max()), 'userId'].iloc[0:100]\n",
    "    recommended_user=[]\n",
    "    for user_id in users:\n",
    "        recommended_user.append(users_df.loc[users_df['userId'] == user_id, 'userId'].iloc[0])\n",
    "    return recommended_user\n"
   ]
  },
  {
   "cell_type": "code",
   "execution_count": 15,
   "id": "f9510dfb",
   "metadata": {},
   "outputs": [],
   "source": [
    "def recommend_by_users(userId,N):\n",
    "    \n",
    "    recommended_movies= []\n",
    "    idx = indices_user_id[indices_user_id == userId].index[0]\n",
    "    score_series = pd.Series(similarity[idx]).sort_values(ascending = False)\n",
    "    top_N_indices = score_series.iloc[0:].index\n",
    "\n",
    "    for i in top_N_indices:\n",
    "        title=get_max_rate_movie(df2['userId'][i])\n",
    "        \n",
    "        if len(recommended_movies)==N:\n",
    "            break\n",
    "        if i==idx or title in recommended_movies:\n",
    "            continue    \n",
    "        recommended_movies.append(title)            \n",
    "    return recommended_movies\n"
   ]
  },
  {
   "cell_type": "code",
   "execution_count": 16,
   "id": "2aec53ae",
   "metadata": {},
   "outputs": [],
   "source": [
    "def recommend_by_movie2(movie,N):\n",
    "    movie_id=movies_df.loc[(movies_df['title']==movie) , 'movieId'].iloc[0]\n",
    "    users=get_max_rate_users(movie_id)\n",
    "    recommended_movies=[]\n",
    "    for user_id in users:\n",
    "        title = get_max_rate_movie(user_id)\n",
    "        if len(recommended_movies)==N:\n",
    "            break\n",
    "        if title in recommended_movies:\n",
    "            continue \n",
    "        recommended_movies.append(title)\n",
    "    return recommended_movies\n"
   ]
  },
  {
   "cell_type": "code",
   "execution_count": 17,
   "id": "0fcb98a9",
   "metadata": {},
   "outputs": [
    {
     "data": {
      "text/plain": [
       "['toy story', 'saludos amigos', 'rugrats movie', \"bug's life\", 'toy story 2']"
      ]
     },
     "execution_count": 17,
     "metadata": {},
     "output_type": "execute_result"
    }
   ],
   "source": [
    "#testing:\n",
    "recommend_by_movies('adventures of rocky and bullwinkle',5)"
   ]
  },
  {
   "cell_type": "code",
   "execution_count": 18,
   "id": "f2fb597f",
   "metadata": {},
   "outputs": [
    {
     "data": {
      "text/plain": [
       "[\"midsummer night's dream\",\n",
       " 'who framed roger rabbit?',\n",
       " 'jumanji',\n",
       " 'x-men',\n",
       " 'bridge on the river kwai']"
      ]
     },
     "execution_count": 18,
     "metadata": {},
     "output_type": "execute_result"
    }
   ],
   "source": [
    "recommend_by_movie2('jumanji',5)"
   ]
  },
  {
   "cell_type": "code",
   "execution_count": 19,
   "id": "d385a1d0",
   "metadata": {},
   "outputs": [
    {
     "data": {
      "text/plain": [
       "['terminator 2',\n",
       " 'maltese falcon',\n",
       " 'who framed roger rabbit?',\n",
       " 'nikita',\n",
       " 'being john malkovich']"
      ]
     },
     "execution_count": 19,
     "metadata": {},
     "output_type": "execute_result"
    }
   ],
   "source": [
    "recommend_by_users(3,5)"
   ]
  }
 ],
 "metadata": {
  "kernelspec": {
   "display_name": "Python 3 (ipykernel)",
   "language": "python",
   "name": "python3"
  },
  "language_info": {
   "codemirror_mode": {
    "name": "ipython",
    "version": 3
   },
   "file_extension": ".py",
   "mimetype": "text/x-python",
   "name": "python",
   "nbconvert_exporter": "python",
   "pygments_lexer": "ipython3",
   "version": "3.9.12"
  }
 },
 "nbformat": 4,
 "nbformat_minor": 5
}
